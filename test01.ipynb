{
 "cells": [
  {
   "cell_type": "code",
   "execution_count": 1,
   "id": "15246b28",
   "metadata": {},
   "outputs": [],
   "source": [
    "import requests\n",
    "from bs4 import BeautifulSoup\n",
    "import openpyxl"
   ]
  },
  {
   "cell_type": "code",
   "execution_count": 2,
   "id": "26bd20c7",
   "metadata": {},
   "outputs": [],
   "source": [
    "url ='https://www.formula1.com/en/results/2025/drivers'\n",
    "response = requests.get(url)"
   ]
  },
  {
   "cell_type": "code",
   "execution_count": 5,
   "id": "11a55598",
   "metadata": {},
   "outputs": [
    {
     "name": "stdout",
     "output_type": "stream",
     "text": [
      "Dữ liệu đã được ghi vào file Excel: f1_results_03.xlsx\n"
     ]
    }
   ],
   "source": [
    "if response.status_code == 200:\n",
    "    soup = BeautifulSoup(response.content, 'html.parser')\n",
    "    table = soup.find('table', class_= 'f1-table f1-table-with-data w-full')\n",
    "    if table:\n",
    "        rows = table.find_all('tr')\n",
    "\n",
    "        # Tạo một workbook mới và chọn sheet hoạt động\n",
    "        workbook = openpyxl.Workbook()\n",
    "        sheet = workbook.active\n",
    "\n",
    "        # Ghi header (tên cột)\n",
    "        header = [\"Position\", \"Driver Name\", \"Nationality\", \"Car\", \"Points\"]\n",
    "        sheet.append(header)\n",
    "\n",
    "        # Ghi dữ liệu\n",
    "        for row_id, row in enumerate(rows):\n",
    "            columns = row.find_all('td')\n",
    "            if columns and len(columns) >= 5:  # Đảm bảo có đủ cột\n",
    "                position = columns[0].text.strip()\n",
    "                driver_name_parts = columns[1].text.strip().split('\\n')\n",
    "                driver_name = ' '.join(driver_name_parts[:-1]).strip() if len(driver_name_parts) > 1 else driver_name_parts[0].strip()\n",
    "                nationality = columns[2].text.strip()\n",
    "                car = columns[3].text.strip()\n",
    "                pts = columns[4].text.strip()\n",
    "\n",
    "                data_row = [position, driver_name, nationality, car, pts]\n",
    "                sheet.append(data_row)\n",
    "\n",
    "        # Lưu workbook vào file Excel\n",
    "        filename_excel = \"f1_results_03.xlsx\"\n",
    "        workbook.save(filename_excel)\n",
    "        print(f\"Dữ liệu đã được ghi vào file Excel: {filename_excel}\")\n",
    "\n",
    "    else:\n",
    "        print(\"Không tìm thấy bảng.\")\n",
    "else:\n",
    "    print(f\"Lỗi khi truy cập trang web. Mã trạng thái: {response.status_code}\")"
   ]
  }
 ],
 "metadata": {
  "kernelspec": {
   "display_name": ".venv",
   "language": "python",
   "name": "python3"
  },
  "language_info": {
   "codemirror_mode": {
    "name": "ipython",
    "version": 3
   },
   "file_extension": ".py",
   "mimetype": "text/x-python",
   "name": "python",
   "nbconvert_exporter": "python",
   "pygments_lexer": "ipython3",
   "version": "3.10.12"
  }
 },
 "nbformat": 4,
 "nbformat_minor": 5
}
